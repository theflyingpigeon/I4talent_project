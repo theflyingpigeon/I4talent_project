{
 "cells": [
  {
   "cell_type": "markdown",
   "source": [
    "# Import the packages"
   ],
   "metadata": {
    "collapsed": false
   },
   "id": "2d7bd4e69f250034"
  },
  {
   "cell_type": "code",
   "outputs": [],
   "source": [
    "import pandas as pd\n",
    "import numpy as np\n",
    "from sklearn.model_selection import train_test_split\n",
    "import xgboost as xgb"
   ],
   "metadata": {
    "collapsed": false,
    "ExecuteTime": {
     "end_time": "2024-01-10T09:45:18.455414Z",
     "start_time": "2024-01-10T09:45:18.447100Z"
    }
   },
   "id": "c37a607c6c9f1c52",
   "execution_count": 30
  },
  {
   "cell_type": "markdown",
   "source": [
    "# Import the dataframe"
   ],
   "metadata": {
    "collapsed": false
   },
   "id": "f1057d29ee289e46"
  },
  {
   "cell_type": "code",
   "outputs": [
    {
     "data": {
      "text/plain": "   Unnamed: 0                datum           startdatum            einddatum  \\\n0           0  2018-12-31 05:06:00  2013-05-23 05:06:00  1905-01-01 05:06:00   \n1           1  2016-12-30 05:06:00  2010-04-24 05:06:00  1905-01-01 05:06:00   \n2           2  2018-12-31 05:06:00  2006-06-09 05:06:00  1905-01-01 05:06:00   \n3           3  2018-12-31 05:06:00  2018-04-28 05:06:00  1905-01-01 05:06:00   \n4           4  2013-12-31 05:06:00  2009-01-09 05:06:00  1905-01-01 05:06:00   \n\n   leeftijd  dienstperiode  status_jaar  status_actief  status_beëindigd  \\\n0      29.0            NaN         2018              1                 0   \n1      33.0            NaN         2016              1                 0   \n2      42.0            NaN         2018              1                 0   \n3      20.0            NaN         2018              1                 0   \n4      32.0            NaN         2013              1                 0   \n\n   reisafstand  uitdienst_reden_Niet van toepassing  uitdienst_reden_Ontslag  \\\n0           53                                 True                    False   \n1           50                                 True                    False   \n2           53                                 True                    False   \n3           50                                 True                    False   \n4          115                                 True                    False   \n\n   uitdienst_reden_Vertrek aantal_geboortes  \n0                    False              7,8  \n1                    False             11,9  \n2                    False             10,9  \n3                    False             11,9  \n4                    False             10,2  ",
      "text/html": "<div>\n<style scoped>\n    .dataframe tbody tr th:only-of-type {\n        vertical-align: middle;\n    }\n\n    .dataframe tbody tr th {\n        vertical-align: top;\n    }\n\n    .dataframe thead th {\n        text-align: right;\n    }\n</style>\n<table border=\"1\" class=\"dataframe\">\n  <thead>\n    <tr style=\"text-align: right;\">\n      <th></th>\n      <th>Unnamed: 0</th>\n      <th>datum</th>\n      <th>startdatum</th>\n      <th>einddatum</th>\n      <th>leeftijd</th>\n      <th>dienstperiode</th>\n      <th>status_jaar</th>\n      <th>status_actief</th>\n      <th>status_beëindigd</th>\n      <th>reisafstand</th>\n      <th>uitdienst_reden_Niet van toepassing</th>\n      <th>uitdienst_reden_Ontslag</th>\n      <th>uitdienst_reden_Vertrek</th>\n      <th>aantal_geboortes</th>\n    </tr>\n  </thead>\n  <tbody>\n    <tr>\n      <th>0</th>\n      <td>0</td>\n      <td>2018-12-31 05:06:00</td>\n      <td>2013-05-23 05:06:00</td>\n      <td>1905-01-01 05:06:00</td>\n      <td>29.0</td>\n      <td>NaN</td>\n      <td>2018</td>\n      <td>1</td>\n      <td>0</td>\n      <td>53</td>\n      <td>True</td>\n      <td>False</td>\n      <td>False</td>\n      <td>7,8</td>\n    </tr>\n    <tr>\n      <th>1</th>\n      <td>1</td>\n      <td>2016-12-30 05:06:00</td>\n      <td>2010-04-24 05:06:00</td>\n      <td>1905-01-01 05:06:00</td>\n      <td>33.0</td>\n      <td>NaN</td>\n      <td>2016</td>\n      <td>1</td>\n      <td>0</td>\n      <td>50</td>\n      <td>True</td>\n      <td>False</td>\n      <td>False</td>\n      <td>11,9</td>\n    </tr>\n    <tr>\n      <th>2</th>\n      <td>2</td>\n      <td>2018-12-31 05:06:00</td>\n      <td>2006-06-09 05:06:00</td>\n      <td>1905-01-01 05:06:00</td>\n      <td>42.0</td>\n      <td>NaN</td>\n      <td>2018</td>\n      <td>1</td>\n      <td>0</td>\n      <td>53</td>\n      <td>True</td>\n      <td>False</td>\n      <td>False</td>\n      <td>10,9</td>\n    </tr>\n    <tr>\n      <th>3</th>\n      <td>3</td>\n      <td>2018-12-31 05:06:00</td>\n      <td>2018-04-28 05:06:00</td>\n      <td>1905-01-01 05:06:00</td>\n      <td>20.0</td>\n      <td>NaN</td>\n      <td>2018</td>\n      <td>1</td>\n      <td>0</td>\n      <td>50</td>\n      <td>True</td>\n      <td>False</td>\n      <td>False</td>\n      <td>11,9</td>\n    </tr>\n    <tr>\n      <th>4</th>\n      <td>4</td>\n      <td>2013-12-31 05:06:00</td>\n      <td>2009-01-09 05:06:00</td>\n      <td>1905-01-01 05:06:00</td>\n      <td>32.0</td>\n      <td>NaN</td>\n      <td>2013</td>\n      <td>1</td>\n      <td>0</td>\n      <td>115</td>\n      <td>True</td>\n      <td>False</td>\n      <td>False</td>\n      <td>10,2</td>\n    </tr>\n  </tbody>\n</table>\n</div>"
     },
     "execution_count": 31,
     "metadata": {},
     "output_type": "execute_result"
    }
   ],
   "source": [
    "df: pd.DataFrame = pd.read_csv('Datasets/trainingdata.csv', sep=',')\n",
    "df.head()"
   ],
   "metadata": {
    "collapsed": false,
    "ExecuteTime": {
     "end_time": "2024-01-10T09:45:18.500479Z",
     "start_time": "2024-01-10T09:45:18.450259Z"
    }
   },
   "id": "54f6726fb4b91892",
   "execution_count": 31
  },
  {
   "cell_type": "code",
   "outputs": [
    {
     "name": "stdout",
     "output_type": "stream",
     "text": [
      "<class 'pandas.core.frame.DataFrame'>\n",
      "RangeIndex: 48849 entries, 0 to 48848\n",
      "Data columns (total 14 columns):\n",
      " #   Column                               Non-Null Count  Dtype  \n",
      "---  ------                               --------------  -----  \n",
      " 0   Unnamed: 0                           48849 non-null  int64  \n",
      " 1   datum                                48849 non-null  object \n",
      " 2   startdatum                           48849 non-null  object \n",
      " 3   einddatum                            48849 non-null  object \n",
      " 4   leeftijd                             48849 non-null  float64\n",
      " 5   dienstperiode                        0 non-null      float64\n",
      " 6   status_jaar                          48849 non-null  int64  \n",
      " 7   status_actief                        48849 non-null  int64  \n",
      " 8   status_beëindigd                     48849 non-null  int64  \n",
      " 9   reisafstand                          48849 non-null  int64  \n",
      " 10  uitdienst_reden_Niet van toepassing  48849 non-null  bool   \n",
      " 11  uitdienst_reden_Ontslag              48849 non-null  bool   \n",
      " 12  uitdienst_reden_Vertrek              48849 non-null  bool   \n",
      " 13  aantal_geboortes                     48849 non-null  object \n",
      "dtypes: bool(3), float64(2), int64(5), object(4)\n",
      "memory usage: 4.2+ MB\n"
     ]
    }
   ],
   "source": [
    "df.info()"
   ],
   "metadata": {
    "collapsed": false,
    "ExecuteTime": {
     "end_time": "2024-01-10T09:45:18.507003Z",
     "start_time": "2024-01-10T09:45:18.497699Z"
    }
   },
   "id": "79ef2741b22bfc92",
   "execution_count": 32
  },
  {
   "cell_type": "code",
   "outputs": [],
   "source": [
    "X, y = df.drop('uitdienst_reden_Vertrek', axis=1), df[['uitdienst_reden_Vertrek']]"
   ],
   "metadata": {
    "collapsed": false,
    "ExecuteTime": {
     "end_time": "2024-01-10T09:45:18.514788Z",
     "start_time": "2024-01-10T09:45:18.506947Z"
    }
   },
   "id": "f27c6737e76d0eec",
   "execution_count": 33
  },
  {
   "cell_type": "code",
   "outputs": [],
   "source": [
    "# Extract text features\n",
    "cats = X.select_dtypes(exclude=np.number).columns.tolist()\n",
    "\n",
    "# Convert to Pandas category\n",
    "for col in cats:\n",
    "   X[col] = X[col].astype('category')"
   ],
   "metadata": {
    "collapsed": false,
    "ExecuteTime": {
     "end_time": "2024-01-10T09:45:18.540463Z",
     "start_time": "2024-01-10T09:45:18.510623Z"
    }
   },
   "id": "fb077d9ea2318cdf",
   "execution_count": 34
  },
  {
   "cell_type": "code",
   "outputs": [],
   "source": [
    "# Split dataset into training and testing sets\n",
    "X_train, X_test, y_train, y_test = train_test_split(X, y, test_size=0.2, random_state=42)"
   ],
   "metadata": {
    "collapsed": false,
    "ExecuteTime": {
     "end_time": "2024-01-10T09:45:18.541237Z",
     "start_time": "2024-01-10T09:45:18.526197Z"
    }
   },
   "id": "d54f4ed678600d15",
   "execution_count": 35
  },
  {
   "cell_type": "code",
   "outputs": [],
   "source": [
    "dtrain_reg = xgb.DMatrix(X_train, y_train, enable_categorical=True)\n",
    "dtest_reg = xgb.DMatrix(X_test, y_test, enable_categorical=True)"
   ],
   "metadata": {
    "collapsed": false,
    "ExecuteTime": {
     "end_time": "2024-01-10T09:45:18.575027Z",
     "start_time": "2024-01-10T09:45:18.532936Z"
    }
   },
   "id": "de401280b9547d35",
   "execution_count": 36
  },
  {
   "cell_type": "code",
   "outputs": [],
   "source": [
    "# Define hyperparameters\n",
    "params = {\"objective\": \"reg:squarederror\"}\n",
    "\n",
    "n = 100\n",
    "model = xgb.train(\n",
    "   params=params,\n",
    "   dtrain=dtrain_reg,\n",
    "   num_boost_round=n,\n",
    ")"
   ],
   "metadata": {
    "collapsed": false,
    "ExecuteTime": {
     "end_time": "2024-01-10T09:45:18.742206Z",
     "start_time": "2024-01-10T09:45:18.545325Z"
    }
   },
   "id": "d8359c7006d5cf36",
   "execution_count": 37
  },
  {
   "cell_type": "code",
   "outputs": [],
   "source": [
    "from sklearn.metrics import mean_squared_error\n",
    "\n",
    "preds = model.predict(dtest_reg)"
   ],
   "metadata": {
    "collapsed": false,
    "ExecuteTime": {
     "end_time": "2024-01-10T09:45:18.747129Z",
     "start_time": "2024-01-10T09:45:18.743194Z"
    }
   },
   "id": "ca72b8360c6e03c0",
   "execution_count": 38
  },
  {
   "cell_type": "code",
   "outputs": [
    {
     "name": "stdout",
     "output_type": "stream",
     "text": [
      "RMSE of the base model: 0.027\n"
     ]
    }
   ],
   "source": [
    "rmse = mean_squared_error(y_test, preds, squared=False)\n",
    "\n",
    "print(f\"RMSE of the base model: {rmse:.3f}\")"
   ],
   "metadata": {
    "collapsed": false,
    "ExecuteTime": {
     "end_time": "2024-01-10T09:45:18.751402Z",
     "start_time": "2024-01-10T09:45:18.747259Z"
    }
   },
   "id": "646c4eae68e237b",
   "execution_count": 39
  },
  {
   "cell_type": "code",
   "outputs": [
    {
     "name": "stdout",
     "output_type": "stream",
     "text": [
      "[0]\ttrain-rmse:0.06193\tvalidation-rmse:0.06522\n",
      "[1]\ttrain-rmse:0.04346\tvalidation-rmse:0.04953\n",
      "[2]\ttrain-rmse:0.03051\tvalidation-rmse:0.03960\n",
      "[3]\ttrain-rmse:0.02144\tvalidation-rmse:0.03368\n",
      "[4]\ttrain-rmse:0.01508\tvalidation-rmse:0.03035\n",
      "[5]\ttrain-rmse:0.01063\tvalidation-rmse:0.02858\n",
      "[6]\ttrain-rmse:0.00750\tvalidation-rmse:0.02767\n",
      "[7]\ttrain-rmse:0.00532\tvalidation-rmse:0.02721\n",
      "[8]\ttrain-rmse:0.00378\tvalidation-rmse:0.02698\n",
      "[9]\ttrain-rmse:0.00271\tvalidation-rmse:0.02687\n",
      "[10]\ttrain-rmse:0.00196\tvalidation-rmse:0.02682\n",
      "[11]\ttrain-rmse:0.00143\tvalidation-rmse:0.02679\n",
      "[12]\ttrain-rmse:0.00106\tvalidation-rmse:0.02678\n",
      "[13]\ttrain-rmse:0.00080\tvalidation-rmse:0.02677\n",
      "[14]\ttrain-rmse:0.00061\tvalidation-rmse:0.02677\n",
      "[15]\ttrain-rmse:0.00048\tvalidation-rmse:0.02677\n",
      "[16]\ttrain-rmse:0.00038\tvalidation-rmse:0.02677\n",
      "[17]\ttrain-rmse:0.00031\tvalidation-rmse:0.02677\n",
      "[18]\ttrain-rmse:0.00025\tvalidation-rmse:0.02677\n",
      "[19]\ttrain-rmse:0.00021\tvalidation-rmse:0.02677\n",
      "[20]\ttrain-rmse:0.00017\tvalidation-rmse:0.02677\n",
      "[21]\ttrain-rmse:0.00014\tvalidation-rmse:0.02676\n",
      "[22]\ttrain-rmse:0.00012\tvalidation-rmse:0.02676\n",
      "[23]\ttrain-rmse:0.00010\tvalidation-rmse:0.02676\n",
      "[24]\ttrain-rmse:0.00009\tvalidation-rmse:0.02676\n",
      "[25]\ttrain-rmse:0.00007\tvalidation-rmse:0.02675\n",
      "[26]\ttrain-rmse:0.00006\tvalidation-rmse:0.02675\n",
      "[27]\ttrain-rmse:0.00005\tvalidation-rmse:0.02675\n",
      "[28]\ttrain-rmse:0.00005\tvalidation-rmse:0.02675\n",
      "[29]\ttrain-rmse:0.00004\tvalidation-rmse:0.02675\n",
      "[30]\ttrain-rmse:0.00003\tvalidation-rmse:0.02675\n",
      "[31]\ttrain-rmse:0.00003\tvalidation-rmse:0.02675\n",
      "[32]\ttrain-rmse:0.00002\tvalidation-rmse:0.02675\n",
      "[33]\ttrain-rmse:0.00002\tvalidation-rmse:0.02675\n",
      "[34]\ttrain-rmse:0.00002\tvalidation-rmse:0.02675\n",
      "[35]\ttrain-rmse:0.00002\tvalidation-rmse:0.02675\n",
      "[36]\ttrain-rmse:0.00002\tvalidation-rmse:0.02675\n",
      "[37]\ttrain-rmse:0.00002\tvalidation-rmse:0.02675\n",
      "[38]\ttrain-rmse:0.00002\tvalidation-rmse:0.02675\n",
      "[39]\ttrain-rmse:0.00002\tvalidation-rmse:0.02675\n",
      "[40]\ttrain-rmse:0.00002\tvalidation-rmse:0.02675\n",
      "[41]\ttrain-rmse:0.00002\tvalidation-rmse:0.02675\n",
      "[42]\ttrain-rmse:0.00002\tvalidation-rmse:0.02675\n",
      "[43]\ttrain-rmse:0.00002\tvalidation-rmse:0.02675\n",
      "[44]\ttrain-rmse:0.00002\tvalidation-rmse:0.02675\n",
      "[45]\ttrain-rmse:0.00002\tvalidation-rmse:0.02675\n",
      "[46]\ttrain-rmse:0.00002\tvalidation-rmse:0.02675\n",
      "[47]\ttrain-rmse:0.00002\tvalidation-rmse:0.02675\n",
      "[48]\ttrain-rmse:0.00002\tvalidation-rmse:0.02675\n",
      "[49]\ttrain-rmse:0.00002\tvalidation-rmse:0.02675\n",
      "[50]\ttrain-rmse:0.00002\tvalidation-rmse:0.02675\n",
      "[51]\ttrain-rmse:0.00002\tvalidation-rmse:0.02675\n",
      "[52]\ttrain-rmse:0.00002\tvalidation-rmse:0.02675\n",
      "[53]\ttrain-rmse:0.00002\tvalidation-rmse:0.02675\n",
      "[54]\ttrain-rmse:0.00002\tvalidation-rmse:0.02675\n",
      "[55]\ttrain-rmse:0.00002\tvalidation-rmse:0.02675\n",
      "[56]\ttrain-rmse:0.00002\tvalidation-rmse:0.02675\n",
      "[57]\ttrain-rmse:0.00002\tvalidation-rmse:0.02675\n",
      "[58]\ttrain-rmse:0.00002\tvalidation-rmse:0.02675\n",
      "[59]\ttrain-rmse:0.00002\tvalidation-rmse:0.02675\n",
      "[60]\ttrain-rmse:0.00002\tvalidation-rmse:0.02675\n",
      "[61]\ttrain-rmse:0.00002\tvalidation-rmse:0.02675\n",
      "[62]\ttrain-rmse:0.00002\tvalidation-rmse:0.02675\n",
      "[63]\ttrain-rmse:0.00002\tvalidation-rmse:0.02675\n",
      "[64]\ttrain-rmse:0.00002\tvalidation-rmse:0.02675\n",
      "[65]\ttrain-rmse:0.00002\tvalidation-rmse:0.02675\n",
      "[66]\ttrain-rmse:0.00002\tvalidation-rmse:0.02675\n",
      "[67]\ttrain-rmse:0.00002\tvalidation-rmse:0.02675\n",
      "[68]\ttrain-rmse:0.00002\tvalidation-rmse:0.02675\n",
      "[69]\ttrain-rmse:0.00002\tvalidation-rmse:0.02675\n",
      "[70]\ttrain-rmse:0.00002\tvalidation-rmse:0.02675\n",
      "[71]\ttrain-rmse:0.00002\tvalidation-rmse:0.02675\n",
      "[72]\ttrain-rmse:0.00002\tvalidation-rmse:0.02675\n",
      "[73]\ttrain-rmse:0.00002\tvalidation-rmse:0.02675\n",
      "[74]\ttrain-rmse:0.00002\tvalidation-rmse:0.02675\n",
      "[75]\ttrain-rmse:0.00002\tvalidation-rmse:0.02675\n",
      "[76]\ttrain-rmse:0.00002\tvalidation-rmse:0.02675\n",
      "[77]\ttrain-rmse:0.00002\tvalidation-rmse:0.02675\n",
      "[78]\ttrain-rmse:0.00002\tvalidation-rmse:0.02675\n",
      "[79]\ttrain-rmse:0.00002\tvalidation-rmse:0.02675\n",
      "[80]\ttrain-rmse:0.00002\tvalidation-rmse:0.02675\n",
      "[81]\ttrain-rmse:0.00002\tvalidation-rmse:0.02675\n",
      "[82]\ttrain-rmse:0.00002\tvalidation-rmse:0.02675\n",
      "[83]\ttrain-rmse:0.00002\tvalidation-rmse:0.02675\n",
      "[84]\ttrain-rmse:0.00002\tvalidation-rmse:0.02675\n",
      "[85]\ttrain-rmse:0.00002\tvalidation-rmse:0.02675\n",
      "[86]\ttrain-rmse:0.00002\tvalidation-rmse:0.02675\n",
      "[87]\ttrain-rmse:0.00002\tvalidation-rmse:0.02675\n",
      "[88]\ttrain-rmse:0.00002\tvalidation-rmse:0.02675\n",
      "[89]\ttrain-rmse:0.00002\tvalidation-rmse:0.02675\n",
      "[90]\ttrain-rmse:0.00002\tvalidation-rmse:0.02675\n",
      "[91]\ttrain-rmse:0.00002\tvalidation-rmse:0.02675\n",
      "[92]\ttrain-rmse:0.00002\tvalidation-rmse:0.02675\n",
      "[93]\ttrain-rmse:0.00002\tvalidation-rmse:0.02675\n",
      "[94]\ttrain-rmse:0.00002\tvalidation-rmse:0.02675\n",
      "[95]\ttrain-rmse:0.00002\tvalidation-rmse:0.02675\n",
      "[96]\ttrain-rmse:0.00002\tvalidation-rmse:0.02675\n",
      "[97]\ttrain-rmse:0.00002\tvalidation-rmse:0.02675\n",
      "[98]\ttrain-rmse:0.00002\tvalidation-rmse:0.02675\n",
      "[99]\ttrain-rmse:0.00002\tvalidation-rmse:0.02675\n"
     ]
    }
   ],
   "source": [
    "evals = [(dtrain_reg, \"train\"), (dtest_reg, \"validation\")]\n",
    "\n",
    "model = xgb.train(\n",
    "   params=params,\n",
    "   dtrain=dtrain_reg,\n",
    "   num_boost_round=n,\n",
    "   evals=evals,\n",
    ")"
   ],
   "metadata": {
    "collapsed": false,
    "ExecuteTime": {
     "end_time": "2024-01-10T09:45:19.044375Z",
     "start_time": "2024-01-10T09:45:18.749964Z"
    }
   },
   "id": "236242299fb1afd0",
   "execution_count": 40
  },
  {
   "cell_type": "code",
   "outputs": [],
   "source": [],
   "metadata": {
    "collapsed": false,
    "ExecuteTime": {
     "end_time": "2024-01-10T09:45:19.044735Z",
     "start_time": "2024-01-10T09:45:19.042039Z"
    }
   },
   "id": "23478d58a8540c5e",
   "execution_count": 40
  }
 ],
 "metadata": {
  "kernelspec": {
   "display_name": "Python 3",
   "language": "python",
   "name": "python3"
  },
  "language_info": {
   "codemirror_mode": {
    "name": "ipython",
    "version": 2
   },
   "file_extension": ".py",
   "mimetype": "text/x-python",
   "name": "python",
   "nbconvert_exporter": "python",
   "pygments_lexer": "ipython2",
   "version": "2.7.6"
  }
 },
 "nbformat": 4,
 "nbformat_minor": 5
}
