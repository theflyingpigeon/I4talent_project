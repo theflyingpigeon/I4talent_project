{
 "cells": [
  {
   "cell_type": "markdown",
   "source": [
    "# Import the packages"
   ],
   "metadata": {
    "collapsed": false
   },
   "id": "2d7bd4e69f250034"
  },
  {
   "cell_type": "code",
   "outputs": [],
   "source": [
    "import pandas as pd\n",
    "import numpy as np\n",
    "from sklearn.model_selection import train_test_split\n",
    "import xgboost as xgb"
   ],
   "metadata": {
    "collapsed": false,
    "ExecuteTime": {
     "end_time": "2024-01-10T10:05:19.473670Z",
     "start_time": "2024-01-10T10:05:19.466964Z"
    }
   },
   "id": "c37a607c6c9f1c52",
   "execution_count": 16
  },
  {
   "cell_type": "markdown",
   "source": [
    "# Import the dataframe"
   ],
   "metadata": {
    "collapsed": false
   },
   "id": "f1057d29ee289e46"
  },
  {
   "cell_type": "code",
   "outputs": [
    {
     "data": {
      "text/plain": "   Unnamed: 0                datum           startdatum            einddatum  \\\n0           0  2018-12-31 05:06:00  2013-05-23 05:06:00  1905-01-01 05:06:00   \n1           1  2016-12-30 05:06:00  2010-04-24 05:06:00  1905-01-01 05:06:00   \n2           2  2018-12-31 05:06:00  2006-06-09 05:06:00  1905-01-01 05:06:00   \n3           3  2018-12-31 05:06:00  2018-04-28 05:06:00  1905-01-01 05:06:00   \n4           4  2013-12-31 05:06:00  2009-01-09 05:06:00  1905-01-01 05:06:00   \n\n   leeftijd  dienstperiode  status_jaar  status_actief  status_beëindigd  \\\n0      29.0            NaN         2018              1                 0   \n1      33.0            NaN         2016              1                 0   \n2      42.0            NaN         2018              1                 0   \n3      20.0            NaN         2018              1                 0   \n4      32.0            NaN         2013              1                 0   \n\n   reisafstand  uitdienst_reden_Niet van toepassing  uitdienst_reden_Ontslag  \\\n0           53                                 True                    False   \n1           50                                 True                    False   \n2           53                                 True                    False   \n3           50                                 True                    False   \n4          115                                 True                    False   \n\n   uitdienst_reden_Vertrek aantal_geboortes  \n0                    False              7,8  \n1                    False             11,9  \n2                    False             10,9  \n3                    False             11,9  \n4                    False             10,2  ",
      "text/html": "<div>\n<style scoped>\n    .dataframe tbody tr th:only-of-type {\n        vertical-align: middle;\n    }\n\n    .dataframe tbody tr th {\n        vertical-align: top;\n    }\n\n    .dataframe thead th {\n        text-align: right;\n    }\n</style>\n<table border=\"1\" class=\"dataframe\">\n  <thead>\n    <tr style=\"text-align: right;\">\n      <th></th>\n      <th>Unnamed: 0</th>\n      <th>datum</th>\n      <th>startdatum</th>\n      <th>einddatum</th>\n      <th>leeftijd</th>\n      <th>dienstperiode</th>\n      <th>status_jaar</th>\n      <th>status_actief</th>\n      <th>status_beëindigd</th>\n      <th>reisafstand</th>\n      <th>uitdienst_reden_Niet van toepassing</th>\n      <th>uitdienst_reden_Ontslag</th>\n      <th>uitdienst_reden_Vertrek</th>\n      <th>aantal_geboortes</th>\n    </tr>\n  </thead>\n  <tbody>\n    <tr>\n      <th>0</th>\n      <td>0</td>\n      <td>2018-12-31 05:06:00</td>\n      <td>2013-05-23 05:06:00</td>\n      <td>1905-01-01 05:06:00</td>\n      <td>29.0</td>\n      <td>NaN</td>\n      <td>2018</td>\n      <td>1</td>\n      <td>0</td>\n      <td>53</td>\n      <td>True</td>\n      <td>False</td>\n      <td>False</td>\n      <td>7,8</td>\n    </tr>\n    <tr>\n      <th>1</th>\n      <td>1</td>\n      <td>2016-12-30 05:06:00</td>\n      <td>2010-04-24 05:06:00</td>\n      <td>1905-01-01 05:06:00</td>\n      <td>33.0</td>\n      <td>NaN</td>\n      <td>2016</td>\n      <td>1</td>\n      <td>0</td>\n      <td>50</td>\n      <td>True</td>\n      <td>False</td>\n      <td>False</td>\n      <td>11,9</td>\n    </tr>\n    <tr>\n      <th>2</th>\n      <td>2</td>\n      <td>2018-12-31 05:06:00</td>\n      <td>2006-06-09 05:06:00</td>\n      <td>1905-01-01 05:06:00</td>\n      <td>42.0</td>\n      <td>NaN</td>\n      <td>2018</td>\n      <td>1</td>\n      <td>0</td>\n      <td>53</td>\n      <td>True</td>\n      <td>False</td>\n      <td>False</td>\n      <td>10,9</td>\n    </tr>\n    <tr>\n      <th>3</th>\n      <td>3</td>\n      <td>2018-12-31 05:06:00</td>\n      <td>2018-04-28 05:06:00</td>\n      <td>1905-01-01 05:06:00</td>\n      <td>20.0</td>\n      <td>NaN</td>\n      <td>2018</td>\n      <td>1</td>\n      <td>0</td>\n      <td>50</td>\n      <td>True</td>\n      <td>False</td>\n      <td>False</td>\n      <td>11,9</td>\n    </tr>\n    <tr>\n      <th>4</th>\n      <td>4</td>\n      <td>2013-12-31 05:06:00</td>\n      <td>2009-01-09 05:06:00</td>\n      <td>1905-01-01 05:06:00</td>\n      <td>32.0</td>\n      <td>NaN</td>\n      <td>2013</td>\n      <td>1</td>\n      <td>0</td>\n      <td>115</td>\n      <td>True</td>\n      <td>False</td>\n      <td>False</td>\n      <td>10,2</td>\n    </tr>\n  </tbody>\n</table>\n</div>"
     },
     "execution_count": 17,
     "metadata": {},
     "output_type": "execute_result"
    }
   ],
   "source": [
    "df: pd.DataFrame = pd.read_csv('../Datasets/trainingdata.csv', sep=',')\n",
    "df.head()"
   ],
   "metadata": {
    "collapsed": false,
    "ExecuteTime": {
     "end_time": "2024-01-10T10:05:19.528814Z",
     "start_time": "2024-01-10T10:05:19.476587Z"
    }
   },
   "id": "54f6726fb4b91892",
   "execution_count": 17
  },
  {
   "cell_type": "code",
   "outputs": [
    {
     "name": "stdout",
     "output_type": "stream",
     "text": [
      "<class 'pandas.core.frame.DataFrame'>\n",
      "RangeIndex: 48849 entries, 0 to 48848\n",
      "Data columns (total 14 columns):\n",
      " #   Column                               Non-Null Count  Dtype  \n",
      "---  ------                               --------------  -----  \n",
      " 0   Unnamed: 0                           48849 non-null  int64  \n",
      " 1   datum                                48849 non-null  object \n",
      " 2   startdatum                           48849 non-null  object \n",
      " 3   einddatum                            48849 non-null  object \n",
      " 4   leeftijd                             48849 non-null  float64\n",
      " 5   dienstperiode                        0 non-null      float64\n",
      " 6   status_jaar                          48849 non-null  int64  \n",
      " 7   status_actief                        48849 non-null  int64  \n",
      " 8   status_beëindigd                     48849 non-null  int64  \n",
      " 9   reisafstand                          48849 non-null  int64  \n",
      " 10  uitdienst_reden_Niet van toepassing  48849 non-null  bool   \n",
      " 11  uitdienst_reden_Ontslag              48849 non-null  bool   \n",
      " 12  uitdienst_reden_Vertrek              48849 non-null  bool   \n",
      " 13  aantal_geboortes                     48849 non-null  object \n",
      "dtypes: bool(3), float64(2), int64(5), object(4)\n",
      "memory usage: 4.2+ MB\n"
     ]
    }
   ],
   "source": [
    "df.info()"
   ],
   "metadata": {
    "collapsed": false,
    "ExecuteTime": {
     "end_time": "2024-01-10T10:05:19.537587Z",
     "start_time": "2024-01-10T10:05:19.527892Z"
    }
   },
   "id": "79ef2741b22bfc92",
   "execution_count": 18
  },
  {
   "cell_type": "code",
   "outputs": [],
   "source": [
    "X, y = df.drop('reisafstand', axis=1), df[['reisafstand']]"
   ],
   "metadata": {
    "collapsed": false,
    "ExecuteTime": {
     "end_time": "2024-01-10T10:05:19.540797Z",
     "start_time": "2024-01-10T10:05:19.536772Z"
    }
   },
   "id": "f27c6737e76d0eec",
   "execution_count": 19
  },
  {
   "cell_type": "code",
   "outputs": [],
   "source": [
    "# Extract text features\n",
    "cats = X.select_dtypes(exclude=np.number).columns.tolist()\n",
    "\n",
    "# Convert to Pandas category\n",
    "for col in cats:\n",
    "   X[col] = X[col].astype('category')"
   ],
   "metadata": {
    "collapsed": false,
    "ExecuteTime": {
     "end_time": "2024-01-10T10:05:19.572016Z",
     "start_time": "2024-01-10T10:05:19.541905Z"
    }
   },
   "id": "fb077d9ea2318cdf",
   "execution_count": 20
  },
  {
   "cell_type": "code",
   "outputs": [],
   "source": [
    "# Split dataset into training and testing sets\n",
    "X_train, X_test, y_train, y_test = train_test_split(X, y, test_size=0.2, random_state=42)"
   ],
   "metadata": {
    "collapsed": false,
    "ExecuteTime": {
     "end_time": "2024-01-10T10:05:19.572362Z",
     "start_time": "2024-01-10T10:05:19.556251Z"
    }
   },
   "id": "d54f4ed678600d15",
   "execution_count": 21
  },
  {
   "cell_type": "code",
   "outputs": [],
   "source": [
    "dtrain_reg = xgb.DMatrix(X_train, y_train, enable_categorical=True)\n",
    "dtest_reg = xgb.DMatrix(X_test, y_test, enable_categorical=True)"
   ],
   "metadata": {
    "collapsed": false,
    "ExecuteTime": {
     "end_time": "2024-01-10T10:05:19.606179Z",
     "start_time": "2024-01-10T10:05:19.563681Z"
    }
   },
   "id": "de401280b9547d35",
   "execution_count": 22
  },
  {
   "cell_type": "code",
   "outputs": [
    {
     "name": "stdout",
     "output_type": "stream",
     "text": [
      "[0]\tTrain-rmse:47.23732\tValidation-rmse:46.70953\n"
     ]
    },
    {
     "name": "stderr",
     "output_type": "stream",
     "text": [
      "/opt/homebrew/lib/python3.11/site-packages/xgboost/core.py:160: UserWarning: [11:05:19] WARNING: /Users/runner/work/xgboost/xgboost/src/learner.cc:742: \n",
      "Parameters: { \"early_stopping_rounds\", \"n_estimators\" } are not used.\n",
      "\n",
      "  warnings.warn(smsg, UserWarning)\n"
     ]
    },
    {
     "name": "stdout",
     "output_type": "stream",
     "text": [
      "[50]\tTrain-rmse:11.42334\tValidation-rmse:12.36796\n",
      "[100]\tTrain-rmse:7.81652\tValidation-rmse:9.19074\n",
      "[150]\tTrain-rmse:6.71416\tValidation-rmse:8.64441\n",
      "[200]\tTrain-rmse:6.08314\tValidation-rmse:8.54472\n",
      "[250]\tTrain-rmse:5.57302\tValidation-rmse:8.51952\n",
      "[293]\tTrain-rmse:5.16624\tValidation-rmse:8.55337\n"
     ]
    }
   ],
   "source": [
    "# Define hyperparameters\n",
    "params = {\n",
    "    \"objective\": \"reg:squarederror\",\n",
    "    \"eta\": 0.05,  # Learning rate - controls the step size during training\n",
    "    \"max_depth\": 8,  # Maximum depth of a tree - controls the complexity of the trees\n",
    "    \"min_child_weight\": 5,  # Minimum sum of instance weight needed in a child\n",
    "    \"gamma\": 0.1,  # Minimum loss reduction required to make a further partition on a leaf node\n",
    "    \"subsample\": 0.8,  # Subsample ratio of the training instances\n",
    "    \"colsample_bytree\": 0.8,  # Subsample ratio of columns when constructing each tree\n",
    "    \"reg_alpha\": 0.001,  # L1 regularization term on weights\n",
    "    \"reg_lambda\": 1.0,  # L2 regularization term on weights\n",
    "    \"n_estimators\": 1000,  # Number of boosting rounds or trees\n",
    "    \"early_stopping_rounds\": 50,  # Stop training if no improvement in the validation metric after this number of rounds\n",
    "    \"eval_metric\": \"rmse\"  # Evaluation metric to use\n",
    "}\n",
    "\n",
    "# Training the XGBoost model\n",
    "num_boost_round = 1000\n",
    "model = xgb.train(\n",
    "    params=params,\n",
    "    dtrain=dtrain_reg,\n",
    "    num_boost_round=num_boost_round,\n",
    "    evals=[(dtrain_reg, \"Train\"), (dtest_reg, \"Validation\")],  # Adding a validation set for monitoring\n",
    "    early_stopping_rounds=params[\"early_stopping_rounds\"],  # Early stopping based on the validation set\n",
    "    verbose_eval=50  # Display evaluation results every 50 rounds\n",
    ")"
   ],
   "metadata": {
    "collapsed": false,
    "ExecuteTime": {
     "end_time": "2024-01-10T10:05:22.600522Z",
     "start_time": "2024-01-10T10:05:19.575819Z"
    }
   },
   "id": "d8359c7006d5cf36",
   "execution_count": 23
  },
  {
   "cell_type": "code",
   "outputs": [],
   "source": [
    "from sklearn.metrics import mean_squared_error\n",
    "\n",
    "preds = model.predict(dtest_reg)"
   ],
   "metadata": {
    "collapsed": false,
    "ExecuteTime": {
     "end_time": "2024-01-10T10:05:22.633870Z",
     "start_time": "2024-01-10T10:05:22.601209Z"
    }
   },
   "id": "ca72b8360c6e03c0",
   "execution_count": 24
  },
  {
   "cell_type": "code",
   "outputs": [
    {
     "name": "stdout",
     "output_type": "stream",
     "text": [
      "RMSE of the base model: 8.555\n"
     ]
    }
   ],
   "source": [
    "rmse = mean_squared_error(y_test, preds, squared=False)\n",
    "\n",
    "print(f\"RMSE of the base model: {rmse:.3f}\")"
   ],
   "metadata": {
    "collapsed": false,
    "ExecuteTime": {
     "end_time": "2024-01-10T10:05:22.639469Z",
     "start_time": "2024-01-10T10:05:22.635597Z"
    }
   },
   "id": "646c4eae68e237b",
   "execution_count": 25
  }
 ],
 "metadata": {
  "kernelspec": {
   "display_name": "Python 3",
   "language": "python",
   "name": "python3"
  },
  "language_info": {
   "codemirror_mode": {
    "name": "ipython",
    "version": 2
   },
   "file_extension": ".py",
   "mimetype": "text/x-python",
   "name": "python",
   "nbconvert_exporter": "python",
   "pygments_lexer": "ipython2",
   "version": "2.7.6"
  }
 },
 "nbformat": 4,
 "nbformat_minor": 5
}
