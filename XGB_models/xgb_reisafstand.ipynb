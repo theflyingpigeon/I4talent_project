{
 "cells": [
  {
   "cell_type": "markdown",
   "source": [
    "# Import the packages"
   ],
   "metadata": {
    "collapsed": false
   },
   "id": "2d7bd4e69f250034"
  },
  {
   "cell_type": "code",
   "outputs": [],
   "source": [
    "import pandas as pd\n",
    "import numpy as np\n",
    "from sklearn.model_selection import train_test_split\n",
    "import xgboost as xgb"
   ],
   "metadata": {
    "collapsed": false,
    "ExecuteTime": {
     "end_time": "2024-01-10T09:50:40.138849Z",
     "start_time": "2024-01-10T09:50:39.298413Z"
    }
   },
   "id": "c37a607c6c9f1c52",
   "execution_count": 1
  },
  {
   "cell_type": "markdown",
   "source": [
    "# Import the dataframe"
   ],
   "metadata": {
    "collapsed": false
   },
   "id": "f1057d29ee289e46"
  },
  {
   "cell_type": "code",
   "outputs": [
    {
     "data": {
      "text/plain": "   Unnamed: 0                datum           startdatum            einddatum  \\\n0           0  2018-12-31 05:06:00  2013-05-23 05:06:00  1905-01-01 05:06:00   \n1           1  2016-12-30 05:06:00  2010-04-24 05:06:00  1905-01-01 05:06:00   \n2           2  2018-12-31 05:06:00  2006-06-09 05:06:00  1905-01-01 05:06:00   \n3           3  2018-12-31 05:06:00  2018-04-28 05:06:00  1905-01-01 05:06:00   \n4           4  2013-12-31 05:06:00  2009-01-09 05:06:00  1905-01-01 05:06:00   \n\n   leeftijd  dienstperiode  status_jaar  status_actief  status_beëindigd  \\\n0      29.0            NaN         2018              1                 0   \n1      33.0            NaN         2016              1                 0   \n2      42.0            NaN         2018              1                 0   \n3      20.0            NaN         2018              1                 0   \n4      32.0            NaN         2013              1                 0   \n\n   reisafstand  uitdienst_reden_Niet van toepassing  uitdienst_reden_Ontslag  \\\n0           53                                 True                    False   \n1           50                                 True                    False   \n2           53                                 True                    False   \n3           50                                 True                    False   \n4          115                                 True                    False   \n\n   uitdienst_reden_Vertrek aantal_geboortes  \n0                    False              7,8  \n1                    False             11,9  \n2                    False             10,9  \n3                    False             11,9  \n4                    False             10,2  ",
      "text/html": "<div>\n<style scoped>\n    .dataframe tbody tr th:only-of-type {\n        vertical-align: middle;\n    }\n\n    .dataframe tbody tr th {\n        vertical-align: top;\n    }\n\n    .dataframe thead th {\n        text-align: right;\n    }\n</style>\n<table border=\"1\" class=\"dataframe\">\n  <thead>\n    <tr style=\"text-align: right;\">\n      <th></th>\n      <th>Unnamed: 0</th>\n      <th>datum</th>\n      <th>startdatum</th>\n      <th>einddatum</th>\n      <th>leeftijd</th>\n      <th>dienstperiode</th>\n      <th>status_jaar</th>\n      <th>status_actief</th>\n      <th>status_beëindigd</th>\n      <th>reisafstand</th>\n      <th>uitdienst_reden_Niet van toepassing</th>\n      <th>uitdienst_reden_Ontslag</th>\n      <th>uitdienst_reden_Vertrek</th>\n      <th>aantal_geboortes</th>\n    </tr>\n  </thead>\n  <tbody>\n    <tr>\n      <th>0</th>\n      <td>0</td>\n      <td>2018-12-31 05:06:00</td>\n      <td>2013-05-23 05:06:00</td>\n      <td>1905-01-01 05:06:00</td>\n      <td>29.0</td>\n      <td>NaN</td>\n      <td>2018</td>\n      <td>1</td>\n      <td>0</td>\n      <td>53</td>\n      <td>True</td>\n      <td>False</td>\n      <td>False</td>\n      <td>7,8</td>\n    </tr>\n    <tr>\n      <th>1</th>\n      <td>1</td>\n      <td>2016-12-30 05:06:00</td>\n      <td>2010-04-24 05:06:00</td>\n      <td>1905-01-01 05:06:00</td>\n      <td>33.0</td>\n      <td>NaN</td>\n      <td>2016</td>\n      <td>1</td>\n      <td>0</td>\n      <td>50</td>\n      <td>True</td>\n      <td>False</td>\n      <td>False</td>\n      <td>11,9</td>\n    </tr>\n    <tr>\n      <th>2</th>\n      <td>2</td>\n      <td>2018-12-31 05:06:00</td>\n      <td>2006-06-09 05:06:00</td>\n      <td>1905-01-01 05:06:00</td>\n      <td>42.0</td>\n      <td>NaN</td>\n      <td>2018</td>\n      <td>1</td>\n      <td>0</td>\n      <td>53</td>\n      <td>True</td>\n      <td>False</td>\n      <td>False</td>\n      <td>10,9</td>\n    </tr>\n    <tr>\n      <th>3</th>\n      <td>3</td>\n      <td>2018-12-31 05:06:00</td>\n      <td>2018-04-28 05:06:00</td>\n      <td>1905-01-01 05:06:00</td>\n      <td>20.0</td>\n      <td>NaN</td>\n      <td>2018</td>\n      <td>1</td>\n      <td>0</td>\n      <td>50</td>\n      <td>True</td>\n      <td>False</td>\n      <td>False</td>\n      <td>11,9</td>\n    </tr>\n    <tr>\n      <th>4</th>\n      <td>4</td>\n      <td>2013-12-31 05:06:00</td>\n      <td>2009-01-09 05:06:00</td>\n      <td>1905-01-01 05:06:00</td>\n      <td>32.0</td>\n      <td>NaN</td>\n      <td>2013</td>\n      <td>1</td>\n      <td>0</td>\n      <td>115</td>\n      <td>True</td>\n      <td>False</td>\n      <td>False</td>\n      <td>10,2</td>\n    </tr>\n  </tbody>\n</table>\n</div>"
     },
     "execution_count": 2,
     "metadata": {},
     "output_type": "execute_result"
    }
   ],
   "source": [
    "df: pd.DataFrame = pd.read_csv('Datasets/trainingdata.csv', sep=',')\n",
    "df.head()"
   ],
   "metadata": {
    "collapsed": false,
    "ExecuteTime": {
     "end_time": "2024-01-10T09:50:40.191348Z",
     "start_time": "2024-01-10T09:50:40.140329Z"
    }
   },
   "id": "54f6726fb4b91892",
   "execution_count": 2
  },
  {
   "cell_type": "code",
   "outputs": [
    {
     "name": "stdout",
     "output_type": "stream",
     "text": [
      "<class 'pandas.core.frame.DataFrame'>\n",
      "RangeIndex: 48849 entries, 0 to 48848\n",
      "Data columns (total 14 columns):\n",
      " #   Column                               Non-Null Count  Dtype  \n",
      "---  ------                               --------------  -----  \n",
      " 0   Unnamed: 0                           48849 non-null  int64  \n",
      " 1   datum                                48849 non-null  object \n",
      " 2   startdatum                           48849 non-null  object \n",
      " 3   einddatum                            48849 non-null  object \n",
      " 4   leeftijd                             48849 non-null  float64\n",
      " 5   dienstperiode                        0 non-null      float64\n",
      " 6   status_jaar                          48849 non-null  int64  \n",
      " 7   status_actief                        48849 non-null  int64  \n",
      " 8   status_beëindigd                     48849 non-null  int64  \n",
      " 9   reisafstand                          48849 non-null  int64  \n",
      " 10  uitdienst_reden_Niet van toepassing  48849 non-null  bool   \n",
      " 11  uitdienst_reden_Ontslag              48849 non-null  bool   \n",
      " 12  uitdienst_reden_Vertrek              48849 non-null  bool   \n",
      " 13  aantal_geboortes                     48849 non-null  object \n",
      "dtypes: bool(3), float64(2), int64(5), object(4)\n",
      "memory usage: 4.2+ MB\n"
     ]
    }
   ],
   "source": [
    "df.info()"
   ],
   "metadata": {
    "collapsed": false,
    "ExecuteTime": {
     "end_time": "2024-01-10T09:50:40.201136Z",
     "start_time": "2024-01-10T09:50:40.188528Z"
    }
   },
   "id": "79ef2741b22bfc92",
   "execution_count": 3
  },
  {
   "cell_type": "code",
   "outputs": [],
   "source": [
    "X, y = df.drop('reisafstand', axis=1), df[['reisafstand']]"
   ],
   "metadata": {
    "collapsed": false,
    "ExecuteTime": {
     "end_time": "2024-01-10T09:50:40.205488Z",
     "start_time": "2024-01-10T09:50:40.199058Z"
    }
   },
   "id": "f27c6737e76d0eec",
   "execution_count": 4
  },
  {
   "cell_type": "code",
   "outputs": [],
   "source": [
    "# Extract text features\n",
    "cats = X.select_dtypes(exclude=np.number).columns.tolist()\n",
    "\n",
    "# Convert to Pandas category\n",
    "for col in cats:\n",
    "   X[col] = X[col].astype('category')"
   ],
   "metadata": {
    "collapsed": false,
    "ExecuteTime": {
     "end_time": "2024-01-10T09:50:40.237442Z",
     "start_time": "2024-01-10T09:50:40.204222Z"
    }
   },
   "id": "fb077d9ea2318cdf",
   "execution_count": 5
  },
  {
   "cell_type": "code",
   "outputs": [],
   "source": [
    "# Split dataset into training and testing sets\n",
    "X_train, X_test, y_train, y_test = train_test_split(X, y, test_size=0.2, random_state=42)"
   ],
   "metadata": {
    "collapsed": false,
    "ExecuteTime": {
     "end_time": "2024-01-10T09:50:40.237951Z",
     "start_time": "2024-01-10T09:50:40.219482Z"
    }
   },
   "id": "d54f4ed678600d15",
   "execution_count": 6
  },
  {
   "cell_type": "code",
   "outputs": [],
   "source": [
    "dtrain_reg = xgb.DMatrix(X_train, y_train, enable_categorical=True)\n",
    "dtest_reg = xgb.DMatrix(X_test, y_test, enable_categorical=True)"
   ],
   "metadata": {
    "collapsed": false,
    "ExecuteTime": {
     "end_time": "2024-01-10T09:50:40.270284Z",
     "start_time": "2024-01-10T09:50:40.225497Z"
    }
   },
   "id": "de401280b9547d35",
   "execution_count": 7
  },
  {
   "cell_type": "code",
   "outputs": [],
   "source": [
    "# Define hyperparameters\n",
    "params = {\"objective\": \"reg:squarederror\"}\n",
    "\n",
    "n = 100\n",
    "model = xgb.train(\n",
    "   params=params,\n",
    "   dtrain=dtrain_reg,\n",
    "   num_boost_round=n,\n",
    ")"
   ],
   "metadata": {
    "collapsed": false,
    "ExecuteTime": {
     "end_time": "2024-01-10T09:50:41.275021Z",
     "start_time": "2024-01-10T09:50:40.239021Z"
    }
   },
   "id": "d8359c7006d5cf36",
   "execution_count": 8
  },
  {
   "cell_type": "code",
   "outputs": [],
   "source": [
    "from sklearn.metrics import mean_squared_error\n",
    "\n",
    "preds = model.predict(dtest_reg)"
   ],
   "metadata": {
    "collapsed": false,
    "ExecuteTime": {
     "end_time": "2024-01-10T09:50:41.284267Z",
     "start_time": "2024-01-10T09:50:41.275157Z"
    }
   },
   "id": "ca72b8360c6e03c0",
   "execution_count": 9
  },
  {
   "cell_type": "code",
   "outputs": [
    {
     "name": "stdout",
     "output_type": "stream",
     "text": [
      "RMSE of the base model: 8.438\n"
     ]
    }
   ],
   "source": [
    "rmse = mean_squared_error(y_test, preds, squared=False)\n",
    "\n",
    "print(f\"RMSE of the base model: {rmse:.3f}\")"
   ],
   "metadata": {
    "collapsed": false,
    "ExecuteTime": {
     "end_time": "2024-01-10T09:50:41.288791Z",
     "start_time": "2024-01-10T09:50:41.284351Z"
    }
   },
   "id": "646c4eae68e237b",
   "execution_count": 10
  },
  {
   "cell_type": "code",
   "outputs": [
    {
     "name": "stdout",
     "output_type": "stream",
     "text": [
      "[0]\ttrain-rmse:35.93639\tvalidation-rmse:35.71713\n",
      "[1]\ttrain-rmse:26.71746\tvalidation-rmse:26.62477\n",
      "[2]\ttrain-rmse:20.41243\tvalidation-rmse:20.50767\n",
      "[3]\ttrain-rmse:16.11431\tvalidation-rmse:16.39603\n",
      "[4]\ttrain-rmse:13.22708\tvalidation-rmse:13.66501\n",
      "[5]\ttrain-rmse:11.40807\tvalidation-rmse:12.03329\n",
      "[6]\ttrain-rmse:10.16472\tvalidation-rmse:10.98858\n",
      "[7]\ttrain-rmse:9.20774\tvalidation-rmse:10.17936\n",
      "[8]\ttrain-rmse:8.64267\tvalidation-rmse:9.72361\n",
      "[9]\ttrain-rmse:8.11072\tvalidation-rmse:9.32167\n",
      "[10]\ttrain-rmse:7.77966\tvalidation-rmse:9.05325\n",
      "[11]\ttrain-rmse:7.40199\tvalidation-rmse:8.82076\n",
      "[12]\ttrain-rmse:7.03742\tvalidation-rmse:8.59509\n",
      "[13]\ttrain-rmse:6.70820\tvalidation-rmse:8.42276\n",
      "[14]\ttrain-rmse:6.48779\tvalidation-rmse:8.26638\n",
      "[15]\ttrain-rmse:6.29428\tvalidation-rmse:8.15998\n",
      "[16]\ttrain-rmse:6.12948\tvalidation-rmse:8.08864\n",
      "[17]\ttrain-rmse:5.96593\tvalidation-rmse:8.02692\n",
      "[18]\ttrain-rmse:5.86287\tvalidation-rmse:7.98895\n",
      "[19]\ttrain-rmse:5.74626\tvalidation-rmse:7.97294\n",
      "[20]\ttrain-rmse:5.66766\tvalidation-rmse:7.93562\n",
      "[21]\ttrain-rmse:5.58084\tvalidation-rmse:7.91960\n",
      "[22]\ttrain-rmse:5.48642\tvalidation-rmse:7.92689\n",
      "[23]\ttrain-rmse:5.41160\tvalidation-rmse:7.91931\n",
      "[24]\ttrain-rmse:5.33421\tvalidation-rmse:7.91363\n",
      "[25]\ttrain-rmse:5.25494\tvalidation-rmse:7.92792\n",
      "[26]\ttrain-rmse:5.17938\tvalidation-rmse:7.92804\n",
      "[27]\ttrain-rmse:5.08338\tvalidation-rmse:7.92568\n",
      "[28]\ttrain-rmse:5.00731\tvalidation-rmse:7.93177\n",
      "[29]\ttrain-rmse:4.95684\tvalidation-rmse:7.92664\n",
      "[30]\ttrain-rmse:4.91113\tvalidation-rmse:7.93306\n",
      "[31]\ttrain-rmse:4.86109\tvalidation-rmse:7.95497\n",
      "[32]\ttrain-rmse:4.81937\tvalidation-rmse:7.95054\n",
      "[33]\ttrain-rmse:4.78741\tvalidation-rmse:7.94526\n",
      "[34]\ttrain-rmse:4.73729\tvalidation-rmse:7.97154\n",
      "[35]\ttrain-rmse:4.70290\tvalidation-rmse:7.97528\n",
      "[36]\ttrain-rmse:4.64976\tvalidation-rmse:7.98952\n",
      "[37]\ttrain-rmse:4.61998\tvalidation-rmse:7.98311\n",
      "[38]\ttrain-rmse:4.57303\tvalidation-rmse:7.99492\n",
      "[39]\ttrain-rmse:4.52835\tvalidation-rmse:7.99670\n",
      "[40]\ttrain-rmse:4.49008\tvalidation-rmse:8.01458\n",
      "[41]\ttrain-rmse:4.45240\tvalidation-rmse:8.01827\n",
      "[42]\ttrain-rmse:4.41233\tvalidation-rmse:8.02888\n",
      "[43]\ttrain-rmse:4.33257\tvalidation-rmse:8.02127\n",
      "[44]\ttrain-rmse:4.19262\tvalidation-rmse:8.02473\n",
      "[45]\ttrain-rmse:4.07249\tvalidation-rmse:8.02218\n",
      "[46]\ttrain-rmse:4.04245\tvalidation-rmse:8.02869\n",
      "[47]\ttrain-rmse:4.01570\tvalidation-rmse:8.04139\n",
      "[48]\ttrain-rmse:3.98579\tvalidation-rmse:8.05078\n",
      "[49]\ttrain-rmse:3.90562\tvalidation-rmse:8.06728\n",
      "[50]\ttrain-rmse:3.88461\tvalidation-rmse:8.06433\n",
      "[51]\ttrain-rmse:3.85760\tvalidation-rmse:8.06895\n",
      "[52]\ttrain-rmse:3.84171\tvalidation-rmse:8.07574\n",
      "[53]\ttrain-rmse:3.80225\tvalidation-rmse:8.08389\n",
      "[54]\ttrain-rmse:3.79325\tvalidation-rmse:8.08948\n",
      "[55]\ttrain-rmse:3.77349\tvalidation-rmse:8.10002\n",
      "[56]\ttrain-rmse:3.76128\tvalidation-rmse:8.09863\n",
      "[57]\ttrain-rmse:3.75135\tvalidation-rmse:8.10033\n",
      "[58]\ttrain-rmse:3.73660\tvalidation-rmse:8.09777\n",
      "[59]\ttrain-rmse:3.68426\tvalidation-rmse:8.10837\n",
      "[60]\ttrain-rmse:3.63981\tvalidation-rmse:8.10867\n",
      "[61]\ttrain-rmse:3.61337\tvalidation-rmse:8.11397\n",
      "[62]\ttrain-rmse:3.59912\tvalidation-rmse:8.12026\n",
      "[63]\ttrain-rmse:3.58139\tvalidation-rmse:8.12531\n",
      "[64]\ttrain-rmse:3.57099\tvalidation-rmse:8.12495\n",
      "[65]\ttrain-rmse:3.53703\tvalidation-rmse:8.13969\n",
      "[66]\ttrain-rmse:3.48475\tvalidation-rmse:8.15823\n",
      "[67]\ttrain-rmse:3.39313\tvalidation-rmse:8.18394\n",
      "[68]\ttrain-rmse:3.31727\tvalidation-rmse:8.21070\n",
      "[69]\ttrain-rmse:3.25881\tvalidation-rmse:8.21040\n",
      "[70]\ttrain-rmse:3.21701\tvalidation-rmse:8.21018\n",
      "[71]\ttrain-rmse:3.18749\tvalidation-rmse:8.22227\n",
      "[72]\ttrain-rmse:3.16062\tvalidation-rmse:8.22659\n",
      "[73]\ttrain-rmse:3.13436\tvalidation-rmse:8.22644\n",
      "[74]\ttrain-rmse:3.11312\tvalidation-rmse:8.23285\n",
      "[75]\ttrain-rmse:3.07990\tvalidation-rmse:8.24196\n",
      "[76]\ttrain-rmse:3.05468\tvalidation-rmse:8.24624\n",
      "[77]\ttrain-rmse:3.02034\tvalidation-rmse:8.25328\n",
      "[78]\ttrain-rmse:2.98303\tvalidation-rmse:8.26656\n",
      "[79]\ttrain-rmse:2.94442\tvalidation-rmse:8.27989\n",
      "[80]\ttrain-rmse:2.91464\tvalidation-rmse:8.29143\n",
      "[81]\ttrain-rmse:2.88965\tvalidation-rmse:8.29756\n",
      "[82]\ttrain-rmse:2.85013\tvalidation-rmse:8.30643\n",
      "[83]\ttrain-rmse:2.83024\tvalidation-rmse:8.31112\n",
      "[84]\ttrain-rmse:2.81459\tvalidation-rmse:8.31887\n",
      "[85]\ttrain-rmse:2.79760\tvalidation-rmse:8.33528\n",
      "[86]\ttrain-rmse:2.77965\tvalidation-rmse:8.34474\n",
      "[87]\ttrain-rmse:2.76731\tvalidation-rmse:8.34713\n",
      "[88]\ttrain-rmse:2.75037\tvalidation-rmse:8.35155\n",
      "[89]\ttrain-rmse:2.68967\tvalidation-rmse:8.36344\n",
      "[90]\ttrain-rmse:2.65350\tvalidation-rmse:8.36797\n",
      "[91]\ttrain-rmse:2.62195\tvalidation-rmse:8.37036\n",
      "[92]\ttrain-rmse:2.60414\tvalidation-rmse:8.37837\n",
      "[93]\ttrain-rmse:2.59078\tvalidation-rmse:8.38229\n",
      "[94]\ttrain-rmse:2.54492\tvalidation-rmse:8.38709\n",
      "[95]\ttrain-rmse:2.49019\tvalidation-rmse:8.40182\n",
      "[96]\ttrain-rmse:2.46578\tvalidation-rmse:8.41452\n",
      "[97]\ttrain-rmse:2.44007\tvalidation-rmse:8.42499\n",
      "[98]\ttrain-rmse:2.40812\tvalidation-rmse:8.43535\n",
      "[99]\ttrain-rmse:2.38562\tvalidation-rmse:8.43800\n"
     ]
    }
   ],
   "source": [
    "evals = [(dtrain_reg, \"train\"), (dtest_reg, \"validation\")]\n",
    "\n",
    "model = xgb.train(\n",
    "   params=params,\n",
    "   dtrain=dtrain_reg,\n",
    "   num_boost_round=n,\n",
    "   evals=evals,\n",
    ")"
   ],
   "metadata": {
    "collapsed": false,
    "ExecuteTime": {
     "end_time": "2024-01-10T09:50:42.319874Z",
     "start_time": "2024-01-10T09:50:41.287459Z"
    }
   },
   "id": "236242299fb1afd0",
   "execution_count": 11
  },
  {
   "cell_type": "code",
   "outputs": [],
   "source": [],
   "metadata": {
    "collapsed": false,
    "ExecuteTime": {
     "end_time": "2024-01-10T09:50:42.322028Z",
     "start_time": "2024-01-10T09:50:42.319280Z"
    }
   },
   "id": "23478d58a8540c5e",
   "execution_count": 11
  }
 ],
 "metadata": {
  "kernelspec": {
   "display_name": "Python 3",
   "language": "python",
   "name": "python3"
  },
  "language_info": {
   "codemirror_mode": {
    "name": "ipython",
    "version": 2
   },
   "file_extension": ".py",
   "mimetype": "text/x-python",
   "name": "python",
   "nbconvert_exporter": "python",
   "pygments_lexer": "ipython2",
   "version": "2.7.6"
  }
 },
 "nbformat": 4,
 "nbformat_minor": 5
}
