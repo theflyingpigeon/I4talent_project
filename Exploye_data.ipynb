{
 "cells": [
  {
   "cell_type": "code",
   "execution_count": 6,
   "id": "initial_id",
   "metadata": {
    "collapsed": true,
    "ExecuteTime": {
     "end_time": "2023-11-22T10:43:23.880130Z",
     "start_time": "2023-11-22T10:43:23.868485Z"
    }
   },
   "outputs": [],
   "source": [
    "# Imports "
   ]
  },
  {
   "cell_type": "code",
   "execution_count": null,
   "outputs": [],
   "source": [
    "import pandas as pd"
   ],
   "metadata": {
    "collapsed": false
   },
   "id": "5bd622f90642bd0f"
  },
  {
   "cell_type": "code",
   "execution_count": 9,
   "outputs": [],
   "source": [
    "# read the data into an dataframe"
   ],
   "metadata": {
    "collapsed": false,
    "ExecuteTime": {
     "end_time": "2023-11-22T10:46:20.221860Z",
     "start_time": "2023-11-22T10:46:20.212434Z"
    }
   },
   "id": "f3de09763bc7b965"
  },
  {
   "cell_type": "code",
   "execution_count": 8,
   "outputs": [
    {
     "data": {
      "text/plain": "   WerknemerID          datum  geboortedatum indiensttreding_datum  \\\n0         6962  12/31/18 5:06   6/26/89 5:06          5/23/13 5:06   \n1        22981  12/30/16 5:06   8/25/83 5:06          4/24/10 5:06   \n2         5325  12/31/18 5:06   4/24/76 5:06           6/9/06 5:06   \n3         8193  12/31/18 5:06  10/26/98 5:06          4/28/18 5:06   \n4         5926  12/31/13 5:06   3/19/81 5:06           1/9/09 5:06   \n\n  uitdiensttreding_datum  leeftijd  lengte_dienst        stad    afdeling  \\\n0            1/1/05 5:06      29.0            5.0  Amstelveen          BI   \n1            1/1/05 5:06      33.0            6.0     Utrecht  Accountant   \n2            1/1/05 5:06      42.0           12.0   Amsterdam          BI   \n3            1/1/05 5:06      20.0            NaN     Utrecht          BI   \n4            1/1/05 5:06      32.0            4.0    Den Haag  Accountant   \n\n   klant_id geslacht_id geslacht uitdiensttreding_reden uitdiensttreding_type  \\\n0        30           V    Vrouw    Niet van toepassing   Niet van toepassing   \n1        21           M      Man    Niet van toepassing   Niet van toepassing   \n2        42           V    Vrouw    Niet van toepassing   Niet van toepassing   \n3        21           V    Vrouw    Niet van toepassing   Niet van toepassing   \n4        18           M      Man    Niet van toepassing   Niet van toepassing   \n\n   STATUS_JAAR  STATUS BUSINESS_UNIT  \n0         2018  Actief   Detachering  \n1         2016  Actief   Detachering  \n2         2018  Actief   Detachering  \n3         2018  Actief   Detachering  \n4         2013  Actief   Detachering  ",
      "text/html": "<div>\n<style scoped>\n    .dataframe tbody tr th:only-of-type {\n        vertical-align: middle;\n    }\n\n    .dataframe tbody tr th {\n        vertical-align: top;\n    }\n\n    .dataframe thead th {\n        text-align: right;\n    }\n</style>\n<table border=\"1\" class=\"dataframe\">\n  <thead>\n    <tr style=\"text-align: right;\">\n      <th></th>\n      <th>WerknemerID</th>\n      <th>datum</th>\n      <th>geboortedatum</th>\n      <th>indiensttreding_datum</th>\n      <th>uitdiensttreding_datum</th>\n      <th>leeftijd</th>\n      <th>lengte_dienst</th>\n      <th>stad</th>\n      <th>afdeling</th>\n      <th>klant_id</th>\n      <th>geslacht_id</th>\n      <th>geslacht</th>\n      <th>uitdiensttreding_reden</th>\n      <th>uitdiensttreding_type</th>\n      <th>STATUS_JAAR</th>\n      <th>STATUS</th>\n      <th>BUSINESS_UNIT</th>\n    </tr>\n  </thead>\n  <tbody>\n    <tr>\n      <th>0</th>\n      <td>6962</td>\n      <td>12/31/18 5:06</td>\n      <td>6/26/89 5:06</td>\n      <td>5/23/13 5:06</td>\n      <td>1/1/05 5:06</td>\n      <td>29.0</td>\n      <td>5.0</td>\n      <td>Amstelveen</td>\n      <td>BI</td>\n      <td>30</td>\n      <td>V</td>\n      <td>Vrouw</td>\n      <td>Niet van toepassing</td>\n      <td>Niet van toepassing</td>\n      <td>2018</td>\n      <td>Actief</td>\n      <td>Detachering</td>\n    </tr>\n    <tr>\n      <th>1</th>\n      <td>22981</td>\n      <td>12/30/16 5:06</td>\n      <td>8/25/83 5:06</td>\n      <td>4/24/10 5:06</td>\n      <td>1/1/05 5:06</td>\n      <td>33.0</td>\n      <td>6.0</td>\n      <td>Utrecht</td>\n      <td>Accountant</td>\n      <td>21</td>\n      <td>M</td>\n      <td>Man</td>\n      <td>Niet van toepassing</td>\n      <td>Niet van toepassing</td>\n      <td>2016</td>\n      <td>Actief</td>\n      <td>Detachering</td>\n    </tr>\n    <tr>\n      <th>2</th>\n      <td>5325</td>\n      <td>12/31/18 5:06</td>\n      <td>4/24/76 5:06</td>\n      <td>6/9/06 5:06</td>\n      <td>1/1/05 5:06</td>\n      <td>42.0</td>\n      <td>12.0</td>\n      <td>Amsterdam</td>\n      <td>BI</td>\n      <td>42</td>\n      <td>V</td>\n      <td>Vrouw</td>\n      <td>Niet van toepassing</td>\n      <td>Niet van toepassing</td>\n      <td>2018</td>\n      <td>Actief</td>\n      <td>Detachering</td>\n    </tr>\n    <tr>\n      <th>3</th>\n      <td>8193</td>\n      <td>12/31/18 5:06</td>\n      <td>10/26/98 5:06</td>\n      <td>4/28/18 5:06</td>\n      <td>1/1/05 5:06</td>\n      <td>20.0</td>\n      <td>NaN</td>\n      <td>Utrecht</td>\n      <td>BI</td>\n      <td>21</td>\n      <td>V</td>\n      <td>Vrouw</td>\n      <td>Niet van toepassing</td>\n      <td>Niet van toepassing</td>\n      <td>2018</td>\n      <td>Actief</td>\n      <td>Detachering</td>\n    </tr>\n    <tr>\n      <th>4</th>\n      <td>5926</td>\n      <td>12/31/13 5:06</td>\n      <td>3/19/81 5:06</td>\n      <td>1/9/09 5:06</td>\n      <td>1/1/05 5:06</td>\n      <td>32.0</td>\n      <td>4.0</td>\n      <td>Den Haag</td>\n      <td>Accountant</td>\n      <td>18</td>\n      <td>M</td>\n      <td>Man</td>\n      <td>Niet van toepassing</td>\n      <td>Niet van toepassing</td>\n      <td>2013</td>\n      <td>Actief</td>\n      <td>Detachering</td>\n    </tr>\n  </tbody>\n</table>\n</div>"
     },
     "execution_count": 8,
     "metadata": {},
     "output_type": "execute_result"
    }
   ],
   "source": [
    "df = pd.read_csv('Datasets/i4talent_alt.csv', sep=',')\n",
    "df.head()"
   ],
   "metadata": {
    "collapsed": false,
    "ExecuteTime": {
     "end_time": "2023-11-22T10:45:21.494057Z",
     "start_time": "2023-11-22T10:45:21.398895Z"
    }
   },
   "id": "6dfc2f3afb3a45d5"
  },
  {
   "cell_type": "code",
   "execution_count": null,
   "outputs": [],
   "source": [],
   "metadata": {
    "collapsed": false
   },
   "id": "39f05ecd6dbad268"
  }
 ],
 "metadata": {
  "kernelspec": {
   "display_name": "Python 3",
   "language": "python",
   "name": "python3"
  },
  "language_info": {
   "codemirror_mode": {
    "name": "ipython",
    "version": 2
   },
   "file_extension": ".py",
   "mimetype": "text/x-python",
   "name": "python",
   "nbconvert_exporter": "python",
   "pygments_lexer": "ipython2",
   "version": "2.7.6"
  }
 },
 "nbformat": 4,
 "nbformat_minor": 5
}
