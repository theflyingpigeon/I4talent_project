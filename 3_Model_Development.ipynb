{
 "cells": [
  {
   "cell_type": "markdown",
   "source": [
    "# Import the packages"
   ],
   "metadata": {
    "collapsed": false
   },
   "id": "2d7bd4e69f250034"
  },
  {
   "cell_type": "code",
   "outputs": [],
   "source": [
    "import pandas as pd\n",
    "import shap\n",
    "from sklearn.model_selection import train_test_split\n",
    "from sklearn.ensemble import RandomForestClassifier\n",
    "import matplotlib.pyplot as plt\n",
    "import math\n",
    "import seaborn as sns"
   ],
   "metadata": {
    "collapsed": false
   },
   "id": "c37a607c6c9f1c52"
  },
  {
   "cell_type": "markdown",
   "source": [
    "# Import the dataframe"
   ],
   "metadata": {
    "collapsed": false
   },
   "id": "f1057d29ee289e46"
  },
  {
   "cell_type": "code",
   "outputs": [],
   "source": [
    "df: pd.DataFrame = pd.read_csv('Datasets/trainingdata.csv', sep=',')"
   ],
   "metadata": {
    "collapsed": false
   },
   "id": "54f6726fb4b91892"
  },
  {
   "cell_type": "code",
   "outputs": [],
   "source": [],
   "metadata": {
    "collapsed": false,
    "ExecuteTime": {
     "end_time": "2023-12-30T12:58:12.293193Z",
     "start_time": "2023-12-30T12:58:12.289404Z"
    }
   },
   "id": "da83d8013154e050",
   "execution_count": 1
  },
  {
   "cell_type": "code",
   "outputs": [],
   "source": [],
   "metadata": {
    "collapsed": false,
    "ExecuteTime": {
     "end_time": "2023-12-30T12:58:12.449141Z",
     "start_time": "2023-12-30T12:58:12.446229Z"
    }
   },
   "id": "12dba30f4dd0b728",
   "execution_count": 1
  },
  {
   "cell_type": "code",
   "outputs": [],
   "source": [
    "# X = ...\n",
    "# y = ...\n",
    "\n",
    "# Split dataset into training and testing sets\n",
    "X_train, X_test, y_train, y_test = train_test_split(X, y, test_size=0.2, random_state=42)\n",
    "\n",
    "# Train a machine learning model (example: RandomForestClassifier)\n",
    "model = RandomForestClassifier()\n",
    "model.fit(X_train, y_train)\n",
    "\n",
    "# Use SHAP to explain predictions\n",
    "explainer = shap.Explainer(model, X_train)\n",
    "shap_values = explainer(X_test)\n",
    "\n",
    "# Visualize the SHAP values\n",
    "shap.summary_plot(shap_values, X_test)"
   ],
   "metadata": {
    "collapsed": false,
    "ExecuteTime": {
     "end_time": "2023-12-30T12:58:12.608554Z",
     "start_time": "2023-12-30T12:58:12.603654Z"
    }
   },
   "id": "f27c6737e76d0eec",
   "execution_count": 1
  },
  {
   "cell_type": "code",
   "outputs": [],
   "source": [],
   "metadata": {
    "collapsed": false,
    "ExecuteTime": {
     "end_time": "2023-12-30T12:58:12.775545Z",
     "start_time": "2023-12-30T12:58:12.773072Z"
    }
   },
   "id": "fb077d9ea2318cdf",
   "execution_count": 1
  },
  {
   "cell_type": "code",
   "outputs": [],
   "source": [],
   "metadata": {
    "collapsed": false
   },
   "id": "d54f4ed678600d15"
  }
 ],
 "metadata": {
  "kernelspec": {
   "display_name": "Python 3",
   "language": "python",
   "name": "python3"
  },
  "language_info": {
   "codemirror_mode": {
    "name": "ipython",
    "version": 2
   },
   "file_extension": ".py",
   "mimetype": "text/x-python",
   "name": "python",
   "nbconvert_exporter": "python",
   "pygments_lexer": "ipython2",
   "version": "2.7.6"
  }
 },
 "nbformat": 4,
 "nbformat_minor": 5
}
