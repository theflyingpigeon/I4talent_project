{
 "cells": [
  {
   "cell_type": "markdown",
   "id": "68956c86cb71fd4d",
   "metadata": {},
   "source": [
    "# Import packages"
   ]
  },
  {
   "cell_type": "code",
   "execution_count": 5,
   "id": "ef4a98984a7d68ff",
   "metadata": {
    "ExecuteTime": {
     "end_time": "2024-01-25T20:06:59.350486Z",
     "start_time": "2024-01-25T20:06:59.152154Z"
    }
   },
   "outputs": [
    {
     "ename": "ImportError",
     "evalue": "cannot import name 'Image' from 'PIL' (unknown location)",
     "output_type": "error",
     "traceback": [
      "\u001B[0;31m---------------------------------------------------------------------------\u001B[0m",
      "\u001B[0;31mImportError\u001B[0m                               Traceback (most recent call last)",
      "Cell \u001B[0;32mIn[5], line 2\u001B[0m\n\u001B[1;32m      1\u001B[0m \u001B[38;5;28;01mimport\u001B[39;00m \u001B[38;5;21;01mpandas\u001B[39;00m \u001B[38;5;28;01mas\u001B[39;00m \u001B[38;5;21;01mpd\u001B[39;00m\n\u001B[0;32m----> 2\u001B[0m \u001B[38;5;28;01mimport\u001B[39;00m \u001B[38;5;21;01mmatplotlib\u001B[39;00m\u001B[38;5;21;01m.\u001B[39;00m\u001B[38;5;21;01mpyplot\u001B[39;00m \u001B[38;5;28;01mas\u001B[39;00m \u001B[38;5;21;01mplt\u001B[39;00m\n\u001B[1;32m      3\u001B[0m \u001B[38;5;28;01mimport\u001B[39;00m \u001B[38;5;21;01mmath\u001B[39;00m\n\u001B[1;32m      4\u001B[0m \u001B[38;5;28;01mimport\u001B[39;00m \u001B[38;5;21;01mseaborn\u001B[39;00m \u001B[38;5;28;01mas\u001B[39;00m \u001B[38;5;21;01msns\u001B[39;00m\n",
      "File \u001B[0;32m/opt/homebrew/lib/python3.11/site-packages/matplotlib/__init__.py:161\u001B[0m\n\u001B[1;32m    157\u001B[0m \u001B[38;5;28;01mfrom\u001B[39;00m \u001B[38;5;21;01mpackaging\u001B[39;00m\u001B[38;5;21;01m.\u001B[39;00m\u001B[38;5;21;01mversion\u001B[39;00m \u001B[38;5;28;01mimport\u001B[39;00m parse \u001B[38;5;28;01mas\u001B[39;00m parse_version\n\u001B[1;32m    159\u001B[0m \u001B[38;5;66;03m# cbook must import matplotlib only within function\u001B[39;00m\n\u001B[1;32m    160\u001B[0m \u001B[38;5;66;03m# definitions, so it is safe to import from it here.\u001B[39;00m\n\u001B[0;32m--> 161\u001B[0m \u001B[38;5;28;01mfrom\u001B[39;00m \u001B[38;5;21;01m.\u001B[39;00m \u001B[38;5;28;01mimport\u001B[39;00m _api, _version, cbook, _docstring, rcsetup\n\u001B[1;32m    162\u001B[0m \u001B[38;5;28;01mfrom\u001B[39;00m \u001B[38;5;21;01mmatplotlib\u001B[39;00m\u001B[38;5;21;01m.\u001B[39;00m\u001B[38;5;21;01mcbook\u001B[39;00m \u001B[38;5;28;01mimport\u001B[39;00m sanitize_sequence\n\u001B[1;32m    163\u001B[0m \u001B[38;5;28;01mfrom\u001B[39;00m \u001B[38;5;21;01mmatplotlib\u001B[39;00m\u001B[38;5;21;01m.\u001B[39;00m\u001B[38;5;21;01m_api\u001B[39;00m \u001B[38;5;28;01mimport\u001B[39;00m MatplotlibDeprecationWarning\n",
      "File \u001B[0;32m/opt/homebrew/lib/python3.11/site-packages/matplotlib/rcsetup.py:27\u001B[0m\n\u001B[1;32m     25\u001B[0m \u001B[38;5;28;01mfrom\u001B[39;00m \u001B[38;5;21;01mmatplotlib\u001B[39;00m \u001B[38;5;28;01mimport\u001B[39;00m _api, cbook\n\u001B[1;32m     26\u001B[0m \u001B[38;5;28;01mfrom\u001B[39;00m \u001B[38;5;21;01mmatplotlib\u001B[39;00m\u001B[38;5;21;01m.\u001B[39;00m\u001B[38;5;21;01mcbook\u001B[39;00m \u001B[38;5;28;01mimport\u001B[39;00m ls_mapper\n\u001B[0;32m---> 27\u001B[0m \u001B[38;5;28;01mfrom\u001B[39;00m \u001B[38;5;21;01mmatplotlib\u001B[39;00m\u001B[38;5;21;01m.\u001B[39;00m\u001B[38;5;21;01mcolors\u001B[39;00m \u001B[38;5;28;01mimport\u001B[39;00m Colormap, is_color_like\n\u001B[1;32m     28\u001B[0m \u001B[38;5;28;01mfrom\u001B[39;00m \u001B[38;5;21;01mmatplotlib\u001B[39;00m\u001B[38;5;21;01m.\u001B[39;00m\u001B[38;5;21;01m_fontconfig_pattern\u001B[39;00m \u001B[38;5;28;01mimport\u001B[39;00m parse_fontconfig_pattern\n\u001B[1;32m     29\u001B[0m \u001B[38;5;28;01mfrom\u001B[39;00m \u001B[38;5;21;01mmatplotlib\u001B[39;00m\u001B[38;5;21;01m.\u001B[39;00m\u001B[38;5;21;01m_enums\u001B[39;00m \u001B[38;5;28;01mimport\u001B[39;00m JoinStyle, CapStyle\n",
      "File \u001B[0;32m/opt/homebrew/lib/python3.11/site-packages/matplotlib/colors.py:52\u001B[0m\n\u001B[1;32m     49\u001B[0m \u001B[38;5;28;01mfrom\u001B[39;00m \u001B[38;5;21;01mnumbers\u001B[39;00m \u001B[38;5;28;01mimport\u001B[39;00m Real\n\u001B[1;32m     50\u001B[0m \u001B[38;5;28;01mimport\u001B[39;00m \u001B[38;5;21;01mre\u001B[39;00m\n\u001B[0;32m---> 52\u001B[0m \u001B[38;5;28;01mfrom\u001B[39;00m \u001B[38;5;21;01mPIL\u001B[39;00m \u001B[38;5;28;01mimport\u001B[39;00m Image\n\u001B[1;32m     53\u001B[0m \u001B[38;5;28;01mfrom\u001B[39;00m \u001B[38;5;21;01mPIL\u001B[39;00m\u001B[38;5;21;01m.\u001B[39;00m\u001B[38;5;21;01mPngImagePlugin\u001B[39;00m \u001B[38;5;28;01mimport\u001B[39;00m PngInfo\n\u001B[1;32m     55\u001B[0m \u001B[38;5;28;01mimport\u001B[39;00m \u001B[38;5;21;01mmatplotlib\u001B[39;00m \u001B[38;5;28;01mas\u001B[39;00m \u001B[38;5;21;01mmpl\u001B[39;00m\n",
      "\u001B[0;31mImportError\u001B[0m: cannot import name 'Image' from 'PIL' (unknown location)"
     ]
    }
   ],
   "source": [
    "import pandas as pd\n",
    "import matplotlib.pyplot as plt\n",
    "import math\n",
    "import seaborn as sns"
   ]
  },
  {
   "cell_type": "markdown",
   "id": "316b9d31d8d263f0",
   "metadata": {},
   "source": [
    "# Import the dataframe"
   ]
  },
  {
   "cell_type": "code",
   "execution_count": null,
   "id": "d96686b86d6aa067",
   "metadata": {
    "ExecuteTime": {
     "end_time": "2024-01-25T20:06:59.354021Z",
     "start_time": "2024-01-25T20:06:59.352125Z"
    }
   },
   "outputs": [],
   "source": [
    "# Import the dataframe\n",
    "df: pd.DataFrame = pd.read_csv('Datasets/cleaned_data.csv')\n",
    "\n",
    "# Change the Dtype of all the date to DateType instead of an object\n",
    "df['datum'] = pd.to_datetime(df['datum'])\n",
    "df['geboortedatum'] = pd.to_datetime(df['geboortedatum'], dayfirst=True)\n",
    "df['startdatum'] = pd.to_datetime(df['startdatum'])\n",
    "df['einddatum'] = pd.to_datetime(df['einddatum'])\n",
    "\n",
    "# Show all the column names\n",
    "df.info()"
   ]
  },
  {
   "cell_type": "markdown",
   "id": "a6f0c52a7d431a23",
   "metadata": {},
   "source": [
    "# Feature engineering"
   ]
  },
  {
   "cell_type": "markdown",
   "id": "13308daab78221c7",
   "metadata": {},
   "source": [
    "# Create new dummies"
   ]
  },
  {
   "cell_type": "code",
   "execution_count": null,
   "id": "1054c55e84c22ce3",
   "metadata": {
    "ExecuteTime": {
     "start_time": "2024-01-25T20:06:59.353769Z"
    }
   },
   "outputs": [],
   "source": [
    "df: pd.DataFrame = pd.get_dummies(df, columns=['afdeling'])\n",
    "df = pd.get_dummies(df, columns=['business_unit'])\n",
    "df = pd.get_dummies(df, columns=['uitdienst_reden'])\n",
    "dummy_row_gender = pd.get_dummies(df['geslacht'], prefix='geslacht_id')\n",
    "df = pd.concat([df, dummy_row_gender], axis=1)\n",
    "df.columns"
   ]
  },
  {
   "cell_type": "code",
   "execution_count": null,
   "id": "2ef0dde3144bf575",
   "metadata": {
    "ExecuteTime": {
     "start_time": "2024-01-25T20:06:59.355237Z"
    }
   },
   "outputs": [],
   "source": [
    "# Visualisation with dummies"
   ]
  },
  {
   "cell_type": "code",
   "execution_count": null,
   "id": "c0999089d3d6604",
   "metadata": {
    "ExecuteTime": {
     "start_time": "2024-01-25T20:06:59.356723Z"
    }
   },
   "outputs": [],
   "source": [
    "#Visualisaties met dummies\n",
    "#Histogram van het aantal werknemers met STATUS beëindiging per jaar\n",
    "\n",
    "df_beindigd = df[df['status_beëindigd'] == 1]\n",
    "\n",
    "plt.figure(figsize=(10, 6))\n",
    "plt.bar(df_beindigd['status_jaar'].value_counts().index, df_beindigd['status_jaar'].value_counts().values, color='blue', edgecolor='black', label='Aantal werknemers met STATUS_beëindiging')\n",
    "plt.axhline(y=df_beindigd['status_jaar'].value_counts().mean(), color='red', linestyle='dashed', linewidth=2, label='Gemiddelde')\n",
    "\n",
    "plt.xlabel('Jaar')\n",
    "plt.ylabel('Aantal werknemers met status beëindiging')\n",
    "plt.title('Aantal werknemers met status beëindiging per jaar')\n",
    "plt.legend()\n",
    "plt.show()"
   ]
  },
  {
   "cell_type": "code",
   "execution_count": null,
   "id": "68f44e53b9f9d73b",
   "metadata": {
    "ExecuteTime": {
     "start_time": "2024-01-25T20:06:59.358426Z"
    }
   },
   "outputs": [],
   "source": [
    "#deze plot is gemaakt om te zien of de leeftijd erg verschilt per stad, dit blijkt mee te vallen\n",
    "#hierdoor is er gekozen om geen andere technieken te gebruiken dan de modus om NaN values in stad in te vullen met Overige\n",
    "import pandas as pd\n",
    "import matplotlib.pyplot as plt\n",
    "\n",
    "average_age_per_city = df.groupby('stad')['leeftijd'].mean().reset_index()\n",
    "\n",
    "plt.figure(figsize=(10, 6))\n",
    "plt.bar(average_age_per_city['stad'], average_age_per_city['leeftijd'], color='blue', edgecolor='black')\n",
    "plt.xlabel('City')\n",
    "plt.ylabel('Average Age')\n",
    "plt.title('Gemiddelde leeftijd per stad')\n",
    "plt.xticks(rotation=45, ha='right')  \n",
    "plt.tight_layout()\n",
    "\n",
    "plt.show()"
   ]
  },
  {
   "cell_type": "code",
   "execution_count": null,
   "id": "cde4307f157ebf56",
   "metadata": {
    "ExecuteTime": {
     "end_time": "2024-01-25T20:06:59.360135Z",
     "start_time": "2024-01-25T20:06:59.359959Z"
    }
   },
   "outputs": [],
   "source": [
    "#om te onderzoeken in welke steden er veel uitstroom van werknemers is maken we deze plot\n",
    "reasons_df = df[['stad', 'uitdienst_reden_Ontslag', 'uitdienst_reden_Vertrek']]\n",
    "\n",
    "reasons_df = reasons_df.fillna(0)\n",
    "\n",
    "reasons_count_per_city = reasons_df.groupby('stad').sum().reset_index()\n",
    "\n",
    "melted_reasons = pd.melt(reasons_count_per_city, id_vars='stad', var_name='Reason', value_name='Count')\n",
    "\n",
    "plt.figure(figsize=(12, 8))\n",
    "sns.barplot(x='stad', y='Count', hue='Reason', data=melted_reasons, color='blue', edgecolor='black')\n",
    "plt.xlabel('City')\n",
    "plt.ylabel('Count')\n",
    "plt.title('Aantal werknemers per reden voor weggaan per stad')\n",
    "plt.xticks(rotation=45, ha='right')\n",
    "plt.tight_layout()\n",
    "\n",
    "plt.show()"
   ]
  },
  {
   "cell_type": "code",
   "execution_count": null,
   "id": "1ae1e0b18480fdab",
   "metadata": {
    "ExecuteTime": {
     "start_time": "2024-01-25T20:06:59.361450Z"
    }
   },
   "outputs": [],
   "source": [
    "reasons_df = df[['stad', 'uitdienst_reden_Ontslag', 'uitdienst_reden_Vertrek']]\n",
    "\n",
    "reasons_df = reasons_df.fillna(0)\n",
    "\n",
    "reasons_count_per_city = reasons_df.groupby('stad').sum().reset_index()\n",
    "\n",
    "total_count_per_city = df['stad'].value_counts().reset_index()\n",
    "total_count_per_city.columns = ['stad', 'total_count']\n",
    "\n",
    "merged_df = pd.merge(reasons_count_per_city, total_count_per_city, on='stad')\n",
    "\n",
    "merged_df['percentage_Ontslag'] = (merged_df['uitdienst_reden_Ontslag'] / merged_df['total_count']) * 100\n",
    "merged_df['percentage_Vertrek'] = (merged_df['uitdienst_reden_Vertrek'] / merged_df['total_count']) * 100\n",
    "\n",
    "melted_reasons = pd.melt(merged_df, id_vars='stad', var_name='Reason', value_name='Percentage')\n",
    "\n",
    "melted_reasons = melted_reasons[melted_reasons['Reason'].isin(['percentage_Ontslag', 'percentage_Vertrek'])]\n",
    "\n",
    "plt.figure(figsize=(12, 8))\n",
    "sns.barplot(x='stad', y='Percentage', hue='Reason', data=melted_reasons)\n",
    "plt.xlabel('City')\n",
    "plt.ylabel('Percentage of Total Count')\n",
    "plt.title('Percentage of Reasons for Leaving per City')\n",
    "plt.xticks(rotation=45, ha='right') \n",
    "plt.tight_layout()\n",
    "\n",
    "plt.show()"
   ]
  },
  {
   "cell_type": "code",
   "execution_count": null,
   "id": "60bfa0bc729b626c",
   "metadata": {
    "ExecuteTime": {
     "start_time": "2024-01-25T20:06:59.362337Z"
    }
   },
   "outputs": [],
   "source": [
    "#om te bekijken wat de leeftijdsverdeling van uitgestroomde werknemers is per piek in de vertrekken per stad\n",
    "#is deze plot gemaakt\n",
    "cities_to_plot = ['Alblasserdam', 'Barendrecht', 'Middelburg', 'Veenendaal', 'Woerden']\n",
    "\n",
    "for city in cities_to_plot:\n",
    "    filtered_df = df[(df['uitdienst_reden_Ontslag'] == 1) & (df['stad'] == city)]\n",
    "\n",
    "    plt.figure(figsize=(10, 6))\n",
    "    plt.hist(filtered_df['leeftijd'], bins=20, color='blue', edgecolor='black')\n",
    "    plt.xlabel('Age')\n",
    "    plt.ylabel('Count')\n",
    "    plt.title(f'Count of Ages with Ontslag=1 in {city}')\n",
    "    plt.grid(axis='y', linestyle='--', alpha=0.7)\n",
    "    plt.tight_layout()\n",
    "\n",
    "    plt.show()"
   ]
  },
  {
   "cell_type": "code",
   "execution_count": null,
   "id": "8d5dded30b8487ed",
   "metadata": {
    "ExecuteTime": {
     "start_time": "2024-01-25T20:06:59.363120Z"
    }
   },
   "outputs": [],
   "source": [
    "#percentages mannen en vrouwen, vertrokken en ontslagen\n",
    "# leaving_age_df = df[df['uitdienst_reden'] != 'Niet van toepassing']\n",
    "\n",
    "percentage_ontslagen_mannen = (df[df['geslacht_id_Man'] == 1]['uitdienst_reden_Ontslag'].sum() / len(df[df['geslacht_id_Man'] == 1])) * 100\n",
    "percentage_vertrokken_mannen = (df[df['geslacht_id_Man'] == 1]['uitdienst_reden_Vertrek'].sum() / len(df[df['geslacht_id_Man'] == 1])) * 100\n",
    "\n",
    "percentage_ontslagen_vrouwen = (df[df['geslacht_id_Vrouw'] == 1]['uitdienst_reden_Ontslag'].sum() / len(df[df['geslacht_id_Vrouw'] == 1])) * 100\n",
    "percentage_vertrokken_vrouwen = (df[df['geslacht_id_Vrouw'] == 1]['uitdienst_reden_Vertrek'].sum() / len(df[df['geslacht_id_Vrouw'] == 1])) * 100\n",
    "\n",
    "plt.figure(figsize=(10, 5))\n",
    "labels = ['Ontslagen Vrouwen', 'Vertrokken Vrouwen']\n",
    "sizes = [percentage_ontslagen_vrouwen, percentage_vertrokken_vrouwen]\n",
    "colors = ['red', 'pink']\n",
    "\n",
    "plt.pie(sizes, labels=labels, colors=colors, autopct='%1.1f%%', startangle=90)\n",
    "plt.title('Percentage ontslagen en vertrokken vrouwen')\n",
    "plt.show()\n",
    "\n",
    "plt.figure(figsize=(10, 5))\n",
    "labels = ['Ontslagen Mannen', 'Vertrokken Mannen']\n",
    "sizes = [percentage_ontslagen_mannen, percentage_vertrokken_mannen]\n",
    "colors = ['blue', 'cyan']\n",
    "\n",
    "plt.pie(sizes, labels=labels, colors=colors, autopct='%1.1f%%', startangle=90)\n",
    "plt.title('Percentage ontslagen en vertrokken mannen')\n",
    "plt.show()"
   ]
  },
  {
   "cell_type": "code",
   "execution_count": null,
   "id": "c830306534af086c",
   "metadata": {
    "ExecuteTime": {
     "start_time": "2024-01-25T20:06:59.364073Z"
    }
   },
   "outputs": [],
   "source": [
    "cities_to_plot = ['Alblasserdam', 'Barendrecht', 'Middelburg', 'Veenendaal', 'Woerden']\n",
    "\n",
    "for city in cities_to_plot:\n",
    "    df_city = df[df['stad'] == city]\n",
    "\n",
    "    count_ontslag_1 = df_city[df_city['uitdienst_reden_Ontslag'] == 1]['leeftijd']\n",
    "    count_ontslag_0 = df_city[df_city['uitdienst_reden_Ontslag'] == 0]['leeftijd']\n",
    "\n",
    "    plt.figure(figsize=(12, 6))\n",
    "\n",
    "    plt.hist([count_ontslag_1, count_ontslag_0], bins=20, stacked=True, color=['blue', 'orange'], edgecolor='black', label=['Ontslag=1', 'Ontslag=0'])\n",
    "    plt.xlabel('Age')\n",
    "    plt.ylabel('Count')\n",
    "    plt.title(f'Count of Ages in {city}')\n",
    "    plt.legend()\n",
    "    plt.grid(axis='y', linestyle='--', alpha=0.7)\n",
    "    plt.tight_layout()"
   ]
  },
  {
   "cell_type": "code",
   "execution_count": null,
   "id": "525b5b82ba351eeb",
   "metadata": {
    "ExecuteTime": {
     "start_time": "2024-01-25T20:06:59.365092Z"
    }
   },
   "outputs": [],
   "source": [
    "#column aantal geboortes aangemaakt\n",
    "birth_df = pd.read_csv('Datasets/geboortecijfers_2022.csv', sep=';', decimal=',')\n",
    "birth_df\n",
    "birth_df.replace('Pijnacker-Nootdorp', 'Pijnacker', inplace=True)\n",
    "birth_df.replace('s-Gravenhage', 'Den Haag', inplace=True)\n",
    "birth_df.replace('Zaanstad', 'Zaandam', inplace=True)\n",
    "birth_df.replace('Capelle aan den IJssel', 'Capelle', inplace=True)\n",
    "# Assuming birth_df and start_df are your DataFrames\n",
    "merged_df = df.merge(birth_df, left_on='stad', right_on='Gemeente', how='left')\n",
    "birth_df.info()\n",
    "# Add the required columns to start_df\n",
    "df['aantal_geboortes'] = merged_df['Levend geborenen per duizend inwoners']\n",
    "df['aantal_geboortes_pf'] = merged_df[\"Levend geborenen per duizend vrouwen (15 tot 50 jaar)\"]"
   ]
  },
  {
   "cell_type": "code",
   "execution_count": null,
   "id": "e1b42b7e1159ae7e",
   "metadata": {
    "ExecuteTime": {
     "start_time": "2024-01-25T20:06:59.366291Z"
    }
   },
   "outputs": [],
   "source": [
    "df.info()"
   ]
  },
  {
   "cell_type": "code",
   "execution_count": null,
   "id": "5d52ba72212e518b",
   "metadata": {
    "ExecuteTime": {
     "start_time": "2024-01-25T20:06:59.367051Z"
    }
   },
   "outputs": [],
   "source": [
    "df = df[df['status_beëindigd'] == True]\n",
    "df['leeftijd_begin_dienst'] = df['leeftijd'] - df['dienstperiode']\n"
   ]
  },
  {
   "cell_type": "markdown",
   "id": "494a55ec2f7b270b",
   "metadata": {},
   "source": [
    "# Store the Dataframe "
   ]
  },
  {
   "cell_type": "code",
   "execution_count": null,
   "id": "e7ee309df915b124",
   "metadata": {
    "ExecuteTime": {
     "start_time": "2024-01-25T20:06:59.368064Z"
    }
   },
   "outputs": [],
   "source": [
    "df.to_csv('Datasets/trainingdata.csv', sep=',', index=False)"
   ]
  }
 ],
 "metadata": {
  "kernelspec": {
   "display_name": "Python 3 (ipykernel)",
   "language": "python",
   "name": "python3"
  },
  "language_info": {
   "codemirror_mode": {
    "name": "ipython",
    "version": 3
   },
   "file_extension": ".py",
   "mimetype": "text/x-python",
   "name": "python",
   "nbconvert_exporter": "python",
   "pygments_lexer": "ipython3",
   "version": "3.11.4"
  }
 },
 "nbformat": 4,
 "nbformat_minor": 5
}
